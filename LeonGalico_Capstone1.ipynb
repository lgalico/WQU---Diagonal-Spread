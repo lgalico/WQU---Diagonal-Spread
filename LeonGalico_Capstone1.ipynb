{
  "nbformat": 4,
  "nbformat_minor": 0,
  "metadata": {
    "colab": {
      "provenance": []
    },
    "kernelspec": {
      "name": "python3",
      "display_name": "Python 3"
    },
    "language_info": {
      "name": "python"
    }
  },
  "cells": [
    {
      "cell_type": "code",
      "execution_count": 18,
      "metadata": {
        "id": "7yIWnkZOfGO3"
      },
      "outputs": [],
      "source": [
        "import numpy as np\n",
        "import pandas as pd\n",
        "from scipy.stats import norm\n",
        "\n",
        "def get_option_price(date, stock_price, strike, dividend, DTE):\n",
        "  \"\"\"\n",
        "  Calculates the price of a call option.\n",
        "\n",
        "  Args:\n",
        "    date: Date #mm/dd/yyyy\n",
        "    stock_price: Current stock price.\n",
        "    strike: Strike price.\n",
        "    dividend: Dividend yield: yearly yield divided by stock_price\n",
        "    DTE: Days to expiration.\n",
        "\n",
        "  Returns:\n",
        "    The price of the call option.\n",
        "  \"\"\"\n",
        "\n",
        "  # Load data from CSV file\n",
        "  df = pd.read_csv('dataq.csv')\n",
        "  # Find the row corresponding to the given date\n",
        "  row = df[df['Date'] == date]\n",
        "\n",
        "  if row.empty:\n",
        "    return \"Date not found in the dataset.\"\n",
        "\n",
        "  # Extract one year volatility and one year interest rate\n",
        "  # Source: https://www.macrotrends.net\n",
        "\n",
        "  sigma = row['Sigma'].values[0]\n",
        "  r = row['rate'].values[0]\n",
        "\n",
        "  # Calculate d1 and d2 (Black-Scholes formula)\n",
        "  d1 = (np.log(stock_price / strike) + (r - dividend + 0.5 * sigma ** 2) * DTE / 365) / (sigma * np.sqrt(DTE / 365))\n",
        "  d2 = d1 - sigma * np.sqrt(DTE / 365)\n",
        "\n",
        "  # Calculate call option price\n",
        "  call_price = stock_price * np.exp(-dividend * DTE / 365) * norm.cdf(d1) - strike * np.exp(-r * DTE / 365) * norm.cdf(d2)\n",
        "\n",
        "  return call_price\n",
        "\n"
      ]
    },
    {
      "cell_type": "code",
      "source": [
        "date = '6/21/2024'\n",
        "stock_price = 480\n",
        "strike = 190\n",
        "dividend = 0.0063\n",
        "DTE = 365\n",
        "\n",
        "price = (\"%.2f\" % get_option_price(date, stock_price, strike, dividend, DTE))\n",
        "print(f\"Call option price: {price}\")"
      ],
      "metadata": {
        "colab": {
          "base_uri": "https://localhost:8080/"
        },
        "id": "vK01d6bLvcVW",
        "outputId": "48b667e7-a7b5-411b-dd35-0555739f9251"
      },
      "execution_count": 26,
      "outputs": [
        {
          "output_type": "stream",
          "name": "stdout",
          "text": [
            "Call option price: 476.99\n"
          ]
        }
      ]
    }
  ]
}